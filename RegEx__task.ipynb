{
 "cells": [
  {
   "cell_type": "code",
   "execution_count": null,
   "id": "fe85572e-c7bc-4d45-b104-ca449c5c52f3",
   "metadata": {},
   "outputs": [],
   "source": [
    "import re\n",
    "name=[]\n",
    "number=[]\n",
    "email=[]\n",
    "#C:\\Users\\habeb\\OneDrive\\Documents\\ai\n",
    "with open(\"C:\\\\Users\\\\habeb\\\\OneDrive\\\\Documents\\\\ai\\\\RegEx task.txt\", \"r\") as file:\n",
    "    for line in file:\n",
    "        #print(line)\n",
    "        d=line.split()\n",
    "        name.append(d[0]+\" \"+d[1])\n",
    "        number.append(d[2])\n",
    "        email.append(d[3])"
   ]
  },
  {
   "cell_type": "code",
   "execution_count": 7,
   "id": "6145c775-50b3-4c52-9101-5942f4d71a52",
   "metadata": {},
   "outputs": [
    {
     "data": {
      "text/plain": [
       "['Omar Tarek',\n",
       " 'Hassan Khaled',\n",
       " 'Mariam Youssef',\n",
       " 'Eman Ahmed',\n",
       " 'Youssef Mostafa',\n",
       " 'Karim Hany',\n",
       " 'Dina Salah',\n",
       " 'Mohamed Samir',\n",
       " 'Sara Adel',\n",
       " 'Nour Amr',\n",
       " 'Hossam Wael',\n",
       " 'Lina Khalil',\n",
       " 'Ramy Tamer',\n",
       " 'Salma Ehab',\n",
       " 'Tarek Mostafa',\n",
       " 'Yara Hassan',\n",
       " 'Walid Sameh',\n",
       " 'Heba Magdy',\n",
       " 'Fady Nabil',\n",
       " 'Nadine Omar']"
      ]
     },
     "execution_count": 7,
     "metadata": {},
     "output_type": "execute_result"
    }
   ],
   "source": [
    "name"
   ]
  },
  {
   "cell_type": "code",
   "execution_count": 8,
   "id": "0101f628-496b-42b6-8038-71c7ffcc06e3",
   "metadata": {},
   "outputs": [
    {
     "data": {
      "text/plain": [
       "['01122337445',\n",
       " '01097988776',\n",
       " '01239456789',\n",
       " '01566077889',\n",
       " '01018122334',\n",
       " '01155636778',\n",
       " '01299828776',\n",
       " '01531344556',\n",
       " '01022363445',\n",
       " '01166727889',\n",
       " '01277388996',\n",
       " '01044955667',\n",
       " '01188919007',\n",
       " '01255636778',\n",
       " '01526233445',\n",
       " '01066757889',\n",
       " '01177818996',\n",
       " '01288909007',\n",
       " '01544535667',\n",
       " '01055766778']"
      ]
     },
     "execution_count": 8,
     "metadata": {},
     "output_type": "execute_result"
    }
   ],
   "source": [
    "number"
   ]
  },
  {
   "cell_type": "code",
   "execution_count": 9,
   "id": "abc6457c-096d-47df-b9af-7767aa429da0",
   "metadata": {},
   "outputs": [
    {
     "data": {
      "text/plain": [
       "['omar78@gmail.com',\n",
       " 'hassan.wael78@gmail.com',\n",
       " 'mariam@gmail.com',\n",
       " 'eman.ahmed123@gmail.com',\n",
       " 'youssef@gmail.com',\n",
       " 'karim@gmail.com',\n",
       " 'dina@gmail.com',\n",
       " 'mohamed@gmail.com',\n",
       " 'sara.a345@gmail.com',\n",
       " 'nour@gmail.com',\n",
       " 'hossam@gmail.com',\n",
       " 'lina@gmail.com',\n",
       " 'ramy@gmail.com',\n",
       " 'salma.ehaab@gmail.com',\n",
       " 'tarek.mostafa@gmail.com',\n",
       " 'yara@gmail.com',\n",
       " 'walid@gmail.com',\n",
       " 'heba@gmail.com',\n",
       " 'fady.n@gmail.com',\n",
       " 'nadine.omar@gmail.com']"
      ]
     },
     "execution_count": 9,
     "metadata": {},
     "output_type": "execute_result"
    }
   ],
   "source": [
    "email"
   ]
  }
 ],
 "metadata": {
  "kernelspec": {
   "display_name": "Python 3 (ipykernel)",
   "language": "python",
   "name": "python3"
  },
  "language_info": {
   "codemirror_mode": {
    "name": "ipython",
    "version": 3
   },
   "file_extension": ".py",
   "mimetype": "text/x-python",
   "name": "python",
   "nbconvert_exporter": "python",
   "pygments_lexer": "ipython3",
   "version": "3.11.7"
  },
  "widgets": {
   "application/vnd.jupyter.widget-state+json": {
    "state": {},
    "version_major": 2,
    "version_minor": 0
   }
  }
 },
 "nbformat": 4,
 "nbformat_minor": 5
}
